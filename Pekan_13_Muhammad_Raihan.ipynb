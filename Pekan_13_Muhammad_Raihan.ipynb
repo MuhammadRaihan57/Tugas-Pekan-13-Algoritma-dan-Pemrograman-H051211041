{
  "nbformat": 4,
  "nbformat_minor": 0,
  "metadata": {
    "colab": {
      "name": "Pekan 13 Muhammad Raihan",
      "provenance": [],
      "authorship_tag": "ABX9TyMezp2VYbM1OVIhNPsSDHlY",
      "include_colab_link": true
    },
    "kernelspec": {
      "name": "python3",
      "display_name": "Python 3"
    },
    "language_info": {
      "name": "python"
    }
  },
  "cells": [
    {
      "cell_type": "markdown",
      "metadata": {
        "id": "view-in-github",
        "colab_type": "text"
      },
      "source": [
        "<a href=\"https://colab.research.google.com/github/MuhammadRaihan57/Tugas-Pekan-13-Algoritma-dan-Pemrograman-H051211041/blob/main/Pekan_13_Muhammad_Raihan.ipynb\" target=\"_parent\"><img src=\"https://colab.research.google.com/assets/colab-badge.svg\" alt=\"Open In Colab\"/></a>"
      ]
    },
    {
      "cell_type": "markdown",
      "source": [
        "**1. BUATLAH PROGRAM UNTUK MENGHITUNG PENJUMLAHAN 2 BUAH MATRIKS**"
      ],
      "metadata": {
        "id": "PZGFY5NGqHjs"
      }
    },
    {
      "cell_type": "code",
      "execution_count": 42,
      "metadata": {
        "colab": {
          "base_uri": "https://localhost:8080/"
        },
        "id": "U4f5oGBspVIe",
        "outputId": "1525a1bd-f28b-42f1-83ea-2d465a32d2e3"
      },
      "outputs": [
        {
          "output_type": "stream",
          "name": "stdout",
          "text": [
            " Program Penjumlahan Matriks ordo 2*2\n",
            "18 4  \n",
            "8 7  \n"
          ]
        }
      ],
      "source": [
        "print(\" Program Penjumlahan Matriks ordo 2*2\")\n",
        "\n",
        "matriksA= [\n",
        "           [6,1],\n",
        "           [6,3],\n",
        "]\n",
        "\n",
        "matriksB= [\n",
        "           [12,3],\n",
        "           [2,4],\n",
        "]\n",
        "\n",
        "for x in range(0, len(matriksA)):\n",
        "  for y in range(0, len(matriksA[0])):\n",
        "    print(matriksA[x][y] + matriksB[x][y], end=' ')\n",
        "  print(' ')"
      ]
    },
    {
      "cell_type": "markdown",
      "source": [
        "**2. Buatlah program untuk menghitung total pembelian N buah barang dengan harga dan\n",
        "jumlah tertentu**"
      ],
      "metadata": {
        "id": "u7lVaByctg5Q"
      }
    },
    {
      "cell_type": "code",
      "source": [
        "TotalBarang = int(input('Masukkan Total Barang: '))\n",
        "for X in range(TotalBarang):\n",
        "  print('Barang',X+1)\n",
        "HargaBarang = int(input('Masukkan Harga Barang: '))\n",
        "\n",
        "TotalHarga= TotalBarang * HargaBarang\n",
        "print('Total Harga  : ',TotalHarga)"
      ],
      "metadata": {
        "colab": {
          "base_uri": "https://localhost:8080/"
        },
        "id": "9Q9R4PQqH_F9",
        "outputId": "0283d815-2e0f-49b3-84d5-2adfdff75c64"
      },
      "execution_count": 43,
      "outputs": [
        {
          "output_type": "stream",
          "name": "stdout",
          "text": [
            "Masukkan Total Barang: 2\n",
            "Barang 1\n",
            "Barang 2\n",
            "Masukkan Harga Barang: 3\n",
            "Total Harga  :  6\n"
          ]
        }
      ]
    },
    {
      "cell_type": "markdown",
      "source": [
        "**3. Buatlah program untuk menghitung banyaknya bilangan genap ataupun bilangan ganjil\n",
        "dari N buah bilangan yang diinput secara acak**"
      ],
      "metadata": {
        "id": "dc-dYCcerlGb"
      }
    },
    {
      "cell_type": "code",
      "source": [
        "awal = int(input('Input Nilai Awal : '))\n",
        "akhir = int(input('Input Nilai Akhir : '))\n",
        "\n",
        "for Y in range(awal,akhir+1):\n",
        "  if Y %2 == 0:\n",
        "    print (Y, 'adalah jenis Bilangan Genap')\n",
        "  else :\n",
        "    print (Y, 'adalah jenis Bilangan Ganjil')"
      ],
      "metadata": {
        "colab": {
          "base_uri": "https://localhost:8080/"
        },
        "id": "KSvBK8-HUP8a",
        "outputId": "bfa4fd07-104d-460c-e9ee-5aec2afc992f"
      },
      "execution_count": 44,
      "outputs": [
        {
          "output_type": "stream",
          "name": "stdout",
          "text": [
            "Input Nilai Awal : 3\n",
            "Input Nilai Akhir : 4\n",
            "3 adalah jenis Bilangan Ganjil\n",
            "4 adalah jenis Bilangan Genap\n"
          ]
        }
      ]
    },
    {
      "cell_type": "markdown",
      "source": [
        "**4. Buatlah program untuk menampilkan bilangan kelipatan 3 diantara bilangan tertentu**"
      ],
      "metadata": {
        "id": "kPIZR8TDMbr6"
      }
    },
    {
      "cell_type": "code",
      "source": [
        "awal=int(input('Set Nilai Kelipatan 3 Awal='))\n",
        "akhir=int(input('Set Nilai Kelipatan 3 Akhir='))\n",
        "\n",
        "s = ''\n",
        "i = 0\n",
        "\n",
        "for i in range (awal,akhir+3,3):\n",
        "  print(i,end=' ')\n",
        "  count=count+1\n",
        "\n",
        "while (i>awal,i<akhir):\n",
        "  s += str(i)+' '\n",
        "  i += 3\n",
        "print(s)"
      ],
      "metadata": {
        "colab": {
          "base_uri": "https://localhost:8080/"
        },
        "id": "XCs-YPkkNeDL",
        "outputId": "c447f9d7-db6d-484f-e942-41236b57a1ba"
      },
      "execution_count": null,
      "outputs": [
        {
          "output_type": "stream",
          "name": "stdout",
          "text": [
            "Set Nilai Kelipatan 3 Awal=3\n",
            "Set Nilai Kelipatan 3 Akhir=12\n",
            "3 6 9 12 "
          ]
        }
      ]
    },
    {
      "cell_type": "markdown",
      "source": [
        "**5.Buatlah program untuk menampilkan bentuk bilangan seperti berikut ini:\n",
        "Bilangan : <input suatu bilangan (misal:5)>**"
      ],
      "metadata": {
        "id": "PAeXHz_KMguO"
      }
    },
    {
      "cell_type": "code",
      "source": [
        "mr = ''\n",
        "for i in range (1,6) :\n",
        "  mr += str(i)+' '\n",
        "  print (mr)"
      ],
      "metadata": {
        "id": "aKcPwqt-NRx5"
      },
      "execution_count": null,
      "outputs": []
    },
    {
      "cell_type": "markdown",
      "source": [
        "**6. Buatlah program untuk menghitung dan menampilkan bentuk berikut ini:**\n",
        "------------------------------------------------------------------------------------------\n",
        "**No. Nama Mhs N.Tugas N.Kuis N.UTS N.UAS NilaiAkhir**"
      ],
      "metadata": {
        "id": "HlTcxbxjM_Kj"
      }
    },
    {
      "cell_type": "code",
      "source": [
        "datamaba = PrettyTable ([\"No.\", \"Nama Mahasiswa\", \"Nilai Tugas\", \"Nilai Kuis\", \"Nilai UTS\", \"Nilai UAS\"])\n",
        "datamaba.add_row([\"1\", \" \", \" \", \" \", \" \", \" \"])\n",
        "datamaba.add_row([\"2\", \" \", \" \", \" \", \" \", \" \"])\n",
        "print(datamaba)"
      ],
      "metadata": {
        "colab": {
          "base_uri": "https://localhost:8080/"
        },
        "id": "pZujzH62Xr9i",
        "outputId": "78ba241f-9307-436b-884e-c90c944b9f2f"
      },
      "execution_count": 41,
      "outputs": [
        {
          "output_type": "stream",
          "name": "stdout",
          "text": [
            "+-----+----------------+-------------+------------+-----------+-----------+\n",
            "| No. | Nama Mahasiswa | Nilai Tugas | Nilai Kuis | Nilai UTS | Nilai UAS |\n",
            "+-----+----------------+-------------+------------+-----------+-----------+\n",
            "|  1  |                |             |            |           |           |\n",
            "|  2  |                |             |            |           |           |\n",
            "+-----+----------------+-------------+------------+-----------+-----------+\n"
          ]
        }
      ]
    }
  ]
}